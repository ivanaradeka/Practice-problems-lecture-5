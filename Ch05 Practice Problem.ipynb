{
 "cells": [
  {
   "cell_type": "markdown",
   "metadata": {},
   "source": [
    "# Start Pandas"
   ]
  },
  {
   "cell_type": "code",
   "execution_count": 1,
   "metadata": {},
   "outputs": [],
   "source": [
    "%matplotlib inline\n",
    "import pandas as pd"
   ]
  },
  {
   "cell_type": "code",
   "execution_count": 3,
   "metadata": {},
   "outputs": [],
   "source": [
    "# limiting the display rows\n",
    "pd.set_option('display.max_rows', 5)\n"
   ]
  },
  {
   "cell_type": "code",
   "execution_count": 4,
   "metadata": {},
   "outputs": [
    {
     "data": {
      "text/html": [
       "<div>\n",
       "<style scoped>\n",
       "    .dataframe tbody tr th:only-of-type {\n",
       "        vertical-align: middle;\n",
       "    }\n",
       "\n",
       "    .dataframe tbody tr th {\n",
       "        vertical-align: top;\n",
       "    }\n",
       "\n",
       "    .dataframe thead th {\n",
       "        text-align: right;\n",
       "    }\n",
       "</style>\n",
       "<table border=\"1\" class=\"dataframe\">\n",
       "  <thead>\n",
       "    <tr style=\"text-align: right;\">\n",
       "      <th></th>\n",
       "      <th>ID</th>\n",
       "      <th>Last Name</th>\n",
       "      <th>First Name</th>\n",
       "      <th>Gender</th>\n",
       "      <th>Department</th>\n",
       "      <th>Title</th>\n",
       "      <th>Salary</th>\n",
       "      <th>Performance</th>\n",
       "    </tr>\n",
       "  </thead>\n",
       "  <tbody>\n",
       "    <tr>\n",
       "      <th>0</th>\n",
       "      <td>10000</td>\n",
       "      <td>Aikman</td>\n",
       "      <td>Gary</td>\n",
       "      <td>F</td>\n",
       "      <td>Sound Design</td>\n",
       "      <td>Senior Sound Designer</td>\n",
       "      <td>67000</td>\n",
       "      <td>Average</td>\n",
       "    </tr>\n",
       "    <tr>\n",
       "      <th>1</th>\n",
       "      <td>10387</td>\n",
       "      <td>Felser</td>\n",
       "      <td>Cynthia</td>\n",
       "      <td>F</td>\n",
       "      <td>Animation</td>\n",
       "      <td>Lead Animator</td>\n",
       "      <td>80000</td>\n",
       "      <td>Good</td>\n",
       "    </tr>\n",
       "    <tr>\n",
       "      <th>...</th>\n",
       "      <td>...</td>\n",
       "      <td>...</td>\n",
       "      <td>...</td>\n",
       "      <td>...</td>\n",
       "      <td>...</td>\n",
       "      <td>...</td>\n",
       "      <td>...</td>\n",
       "      <td>...</td>\n",
       "    </tr>\n",
       "    <tr>\n",
       "      <th>91</th>\n",
       "      <td>27244</td>\n",
       "      <td>De Maria</td>\n",
       "      <td>Cristi</td>\n",
       "      <td>F</td>\n",
       "      <td>Programming</td>\n",
       "      <td>Programmer</td>\n",
       "      <td>90000</td>\n",
       "      <td>Excellent</td>\n",
       "    </tr>\n",
       "    <tr>\n",
       "      <th>92</th>\n",
       "      <td>27474</td>\n",
       "      <td>Elway</td>\n",
       "      <td>William</td>\n",
       "      <td>M</td>\n",
       "      <td>Programming</td>\n",
       "      <td>Programmer</td>\n",
       "      <td>75000</td>\n",
       "      <td>Good</td>\n",
       "    </tr>\n",
       "  </tbody>\n",
       "</table>\n",
       "<p>93 rows × 8 columns</p>\n",
       "</div>"
      ],
      "text/plain": [
       "       ID Last Name First Name Gender    Department                  Title  \\\n",
       "0   10000    Aikman       Gary      F  Sound Design  Senior Sound Designer   \n",
       "1   10387    Felser    Cynthia      F     Animation          Lead Animator   \n",
       "..    ...       ...        ...    ...           ...                    ...   \n",
       "91  27244  De Maria     Cristi      F   Programming             Programmer   \n",
       "92  27474     Elway    William      M   Programming             Programmer   \n",
       "\n",
       "    Salary Performance  \n",
       "0    67000     Average  \n",
       "1    80000        Good  \n",
       "..     ...         ...  \n",
       "91   90000   Excellent  \n",
       "92   75000        Good  \n",
       "\n",
       "[93 rows x 8 columns]"
      ]
     },
     "execution_count": 4,
     "metadata": {},
     "output_type": "execute_result"
    }
   ],
   "source": [
    "data = pd.read_csv('data//GameSalary.csv')\n",
    "data"
   ]
  },
  {
   "cell_type": "code",
   "execution_count": 6,
   "metadata": {},
   "outputs": [
    {
     "data": {
      "text/html": [
       "<div>\n",
       "<style scoped>\n",
       "    .dataframe tbody tr th:only-of-type {\n",
       "        vertical-align: middle;\n",
       "    }\n",
       "\n",
       "    .dataframe tbody tr th {\n",
       "        vertical-align: top;\n",
       "    }\n",
       "\n",
       "    .dataframe thead th {\n",
       "        text-align: right;\n",
       "    }\n",
       "</style>\n",
       "<table border=\"1\" class=\"dataframe\">\n",
       "  <thead>\n",
       "    <tr style=\"text-align: right;\">\n",
       "      <th></th>\n",
       "      <th>ID</th>\n",
       "      <th>Last Name</th>\n",
       "      <th>First Name</th>\n",
       "      <th>Gender</th>\n",
       "      <th>Department</th>\n",
       "      <th>Title</th>\n",
       "      <th>Salary</th>\n",
       "      <th>Performance</th>\n",
       "    </tr>\n",
       "  </thead>\n",
       "  <tbody>\n",
       "    <tr>\n",
       "      <th>0</th>\n",
       "      <td>10000</td>\n",
       "      <td>Aikman</td>\n",
       "      <td>Gary</td>\n",
       "      <td>F</td>\n",
       "      <td>Sound Design</td>\n",
       "      <td>Senior Sound Designer</td>\n",
       "      <td>67000</td>\n",
       "      <td>Average</td>\n",
       "    </tr>\n",
       "    <tr>\n",
       "      <th>1</th>\n",
       "      <td>10387</td>\n",
       "      <td>Felser</td>\n",
       "      <td>Cynthia</td>\n",
       "      <td>F</td>\n",
       "      <td>Animation</td>\n",
       "      <td>Lead Animator</td>\n",
       "      <td>80000</td>\n",
       "      <td>Good</td>\n",
       "    </tr>\n",
       "  </tbody>\n",
       "</table>\n",
       "</div>"
      ],
      "text/plain": [
       "      ID Last Name First Name Gender    Department                  Title  \\\n",
       "0  10000    Aikman       Gary      F  Sound Design  Senior Sound Designer   \n",
       "1  10387    Felser    Cynthia      F     Animation          Lead Animator   \n",
       "\n",
       "   Salary Performance  \n",
       "0   67000     Average  \n",
       "1   80000        Good  "
      ]
     },
     "execution_count": 6,
     "metadata": {},
     "output_type": "execute_result"
    }
   ],
   "source": [
    "# Display first five records\n",
    "data.head()\n",
    "data.head(2)"
   ]
  },
  {
   "cell_type": "code",
   "execution_count": 7,
   "metadata": {},
   "outputs": [
    {
     "data": {
      "text/plain": [
       "(93, 8)"
      ]
     },
     "execution_count": 7,
     "metadata": {},
     "output_type": "execute_result"
    }
   ],
   "source": [
    "# rows, columns\n",
    "data.shape"
   ]
  },
  {
   "cell_type": "code",
   "execution_count": 8,
   "metadata": {},
   "outputs": [
    {
     "data": {
      "text/plain": [
       "Index(['ID', 'Last Name', 'First Name', 'Gender', 'Department', 'Title',\n",
       "       'Salary', 'Performance'],\n",
       "      dtype='object')"
      ]
     },
     "execution_count": 8,
     "metadata": {},
     "output_type": "execute_result"
    }
   ],
   "source": [
    "# show columns\n",
    "data.columns"
   ]
  },
  {
   "cell_type": "code",
   "execution_count": 9,
   "metadata": {},
   "outputs": [
    {
     "data": {
      "text/html": [
       "<div>\n",
       "<style scoped>\n",
       "    .dataframe tbody tr th:only-of-type {\n",
       "        vertical-align: middle;\n",
       "    }\n",
       "\n",
       "    .dataframe tbody tr th {\n",
       "        vertical-align: top;\n",
       "    }\n",
       "\n",
       "    .dataframe thead th {\n",
       "        text-align: right;\n",
       "    }\n",
       "</style>\n",
       "<table border=\"1\" class=\"dataframe\">\n",
       "  <thead>\n",
       "    <tr style=\"text-align: right;\">\n",
       "      <th></th>\n",
       "      <th>ID</th>\n",
       "      <th>Salary</th>\n",
       "    </tr>\n",
       "  </thead>\n",
       "  <tbody>\n",
       "    <tr>\n",
       "      <th>count</th>\n",
       "      <td>93.000000</td>\n",
       "      <td>93.000000</td>\n",
       "    </tr>\n",
       "    <tr>\n",
       "      <th>mean</th>\n",
       "      <td>19267.075269</td>\n",
       "      <td>62346.182796</td>\n",
       "    </tr>\n",
       "    <tr>\n",
       "      <th>...</th>\n",
       "      <td>...</td>\n",
       "      <td>...</td>\n",
       "    </tr>\n",
       "    <tr>\n",
       "      <th>75%</th>\n",
       "      <td>23484.000000</td>\n",
       "      <td>70125.000000</td>\n",
       "    </tr>\n",
       "    <tr>\n",
       "      <th>max</th>\n",
       "      <td>27474.000000</td>\n",
       "      <td>120000.000000</td>\n",
       "    </tr>\n",
       "  </tbody>\n",
       "</table>\n",
       "<p>8 rows × 2 columns</p>\n",
       "</div>"
      ],
      "text/plain": [
       "                 ID         Salary\n",
       "count     93.000000      93.000000\n",
       "mean   19267.075269   62346.182796\n",
       "...             ...            ...\n",
       "75%    23484.000000   70125.000000\n",
       "max    27474.000000  120000.000000\n",
       "\n",
       "[8 rows x 2 columns]"
      ]
     },
     "execution_count": 9,
     "metadata": {},
     "output_type": "execute_result"
    }
   ],
   "source": [
    "# Statistics summary\n",
    "data.describe()"
   ]
  },
  {
   "cell_type": "code",
   "execution_count": 10,
   "metadata": {},
   "outputs": [
    {
     "data": {
      "text/html": [
       "<div>\n",
       "<style scoped>\n",
       "    .dataframe tbody tr th:only-of-type {\n",
       "        vertical-align: middle;\n",
       "    }\n",
       "\n",
       "    .dataframe tbody tr th {\n",
       "        vertical-align: top;\n",
       "    }\n",
       "\n",
       "    .dataframe thead th {\n",
       "        text-align: right;\n",
       "    }\n",
       "</style>\n",
       "<table border=\"1\" class=\"dataframe\">\n",
       "  <thead>\n",
       "    <tr style=\"text-align: right;\">\n",
       "      <th></th>\n",
       "      <th>ID</th>\n",
       "      <th>Last Name</th>\n",
       "      <th>First Name</th>\n",
       "      <th>Gender</th>\n",
       "      <th>Department</th>\n",
       "      <th>Title</th>\n",
       "      <th>Salary</th>\n",
       "      <th>Performance</th>\n",
       "    </tr>\n",
       "  </thead>\n",
       "  <tbody>\n",
       "    <tr>\n",
       "      <th>0</th>\n",
       "      <td>10000</td>\n",
       "      <td>Aikman</td>\n",
       "      <td>Gary</td>\n",
       "      <td>F</td>\n",
       "      <td>Sound Design</td>\n",
       "      <td>Senior Sound Designer</td>\n",
       "      <td>67000</td>\n",
       "      <td>Average</td>\n",
       "    </tr>\n",
       "    <tr>\n",
       "      <th>1</th>\n",
       "      <td>10387</td>\n",
       "      <td>Felser</td>\n",
       "      <td>Cynthia</td>\n",
       "      <td>F</td>\n",
       "      <td>Animation</td>\n",
       "      <td>Lead Animator</td>\n",
       "      <td>80000</td>\n",
       "      <td>Good</td>\n",
       "    </tr>\n",
       "    <tr>\n",
       "      <th>...</th>\n",
       "      <td>...</td>\n",
       "      <td>...</td>\n",
       "      <td>...</td>\n",
       "      <td>...</td>\n",
       "      <td>...</td>\n",
       "      <td>...</td>\n",
       "      <td>...</td>\n",
       "      <td>...</td>\n",
       "    </tr>\n",
       "    <tr>\n",
       "      <th>91</th>\n",
       "      <td>27244</td>\n",
       "      <td>De Maria</td>\n",
       "      <td>Cristi</td>\n",
       "      <td>F</td>\n",
       "      <td>Programming</td>\n",
       "      <td>Programmer</td>\n",
       "      <td>90000</td>\n",
       "      <td>Excellent</td>\n",
       "    </tr>\n",
       "    <tr>\n",
       "      <th>92</th>\n",
       "      <td>27474</td>\n",
       "      <td>Elway</td>\n",
       "      <td>William</td>\n",
       "      <td>M</td>\n",
       "      <td>Programming</td>\n",
       "      <td>Programmer</td>\n",
       "      <td>75000</td>\n",
       "      <td>Good</td>\n",
       "    </tr>\n",
       "  </tbody>\n",
       "</table>\n",
       "<p>93 rows × 8 columns</p>\n",
       "</div>"
      ],
      "text/plain": [
       "       ID Last Name First Name Gender    Department                  Title  \\\n",
       "0   10000    Aikman       Gary      F  Sound Design  Senior Sound Designer   \n",
       "1   10387    Felser    Cynthia      F     Animation          Lead Animator   \n",
       "..    ...       ...        ...    ...           ...                    ...   \n",
       "91  27244  De Maria     Cristi      F   Programming             Programmer   \n",
       "92  27474     Elway    William      M   Programming             Programmer   \n",
       "\n",
       "    Salary Performance  \n",
       "0    67000     Average  \n",
       "1    80000        Good  \n",
       "..     ...         ...  \n",
       "91   90000   Excellent  \n",
       "92   75000        Good  \n",
       "\n",
       "[93 rows x 8 columns]"
      ]
     },
     "execution_count": 10,
     "metadata": {},
     "output_type": "execute_result"
    }
   ],
   "source": [
    "data\n"
   ]
  },
  {
   "cell_type": "code",
   "execution_count": 17,
   "metadata": {},
   "outputs": [
    {
     "name": "stdout",
     "output_type": "stream",
     "text": [
      "0     67000\n",
      "1     80000\n",
      "      ...  \n",
      "91    90000\n",
      "92    75000\n",
      "Name: Salary, Length: 93, dtype: int64\n"
     ]
    },
    {
     "data": {
      "text/html": [
       "<div>\n",
       "<style scoped>\n",
       "    .dataframe tbody tr th:only-of-type {\n",
       "        vertical-align: middle;\n",
       "    }\n",
       "\n",
       "    .dataframe tbody tr th {\n",
       "        vertical-align: top;\n",
       "    }\n",
       "\n",
       "    .dataframe thead th {\n",
       "        text-align: right;\n",
       "    }\n",
       "</style>\n",
       "<table border=\"1\" class=\"dataframe\">\n",
       "  <thead>\n",
       "    <tr style=\"text-align: right;\">\n",
       "      <th></th>\n",
       "      <th>ID</th>\n",
       "      <th>Last Name</th>\n",
       "      <th>First Name</th>\n",
       "      <th>Gender</th>\n",
       "      <th>Department</th>\n",
       "      <th>Title</th>\n",
       "      <th>Salary</th>\n",
       "      <th>Performance</th>\n",
       "    </tr>\n",
       "  </thead>\n",
       "  <tbody>\n",
       "    <tr>\n",
       "      <th>0</th>\n",
       "      <td>10000</td>\n",
       "      <td>Aikman</td>\n",
       "      <td>Gary</td>\n",
       "      <td>F</td>\n",
       "      <td>Sound Design</td>\n",
       "      <td>Senior Sound Designer</td>\n",
       "      <td>67000</td>\n",
       "      <td>Average</td>\n",
       "    </tr>\n",
       "    <tr>\n",
       "      <th>1</th>\n",
       "      <td>10387</td>\n",
       "      <td>Felser</td>\n",
       "      <td>Cynthia</td>\n",
       "      <td>F</td>\n",
       "      <td>Animation</td>\n",
       "      <td>Lead Animator</td>\n",
       "      <td>80000</td>\n",
       "      <td>Good</td>\n",
       "    </tr>\n",
       "    <tr>\n",
       "      <th>...</th>\n",
       "      <td>...</td>\n",
       "      <td>...</td>\n",
       "      <td>...</td>\n",
       "      <td>...</td>\n",
       "      <td>...</td>\n",
       "      <td>...</td>\n",
       "      <td>...</td>\n",
       "      <td>...</td>\n",
       "    </tr>\n",
       "    <tr>\n",
       "      <th>91</th>\n",
       "      <td>27244</td>\n",
       "      <td>De Maria</td>\n",
       "      <td>Cristi</td>\n",
       "      <td>F</td>\n",
       "      <td>Programming</td>\n",
       "      <td>Programmer</td>\n",
       "      <td>90000</td>\n",
       "      <td>Excellent</td>\n",
       "    </tr>\n",
       "    <tr>\n",
       "      <th>92</th>\n",
       "      <td>27474</td>\n",
       "      <td>Elway</td>\n",
       "      <td>William</td>\n",
       "      <td>M</td>\n",
       "      <td>Programming</td>\n",
       "      <td>Programmer</td>\n",
       "      <td>75000</td>\n",
       "      <td>Good</td>\n",
       "    </tr>\n",
       "  </tbody>\n",
       "</table>\n",
       "<p>93 rows × 8 columns</p>\n",
       "</div>"
      ],
      "text/plain": [
       "       ID Last Name First Name Gender    Department                  Title  \\\n",
       "0   10000    Aikman       Gary      F  Sound Design  Senior Sound Designer   \n",
       "1   10387    Felser    Cynthia      F     Animation          Lead Animator   \n",
       "..    ...       ...        ...    ...           ...                    ...   \n",
       "91  27244  De Maria     Cristi      F   Programming             Programmer   \n",
       "92  27474     Elway    William      M   Programming             Programmer   \n",
       "\n",
       "    Salary Performance  \n",
       "0    67000     Average  \n",
       "1    80000        Good  \n",
       "..     ...         ...  \n",
       "91   90000   Excellent  \n",
       "92   75000        Good  \n",
       "\n",
       "[93 rows x 8 columns]"
      ]
     },
     "execution_count": 17,
     "metadata": {},
     "output_type": "execute_result"
    }
   ],
   "source": [
    "# display single column\n",
    "res = data['Last Name']\n",
    "res = data['Salary']\n",
    "res = data.Salary   # for column name without space\n",
    "#res = data.Last Name  #<- error\n",
    "\n",
    "print(data.Salary)\n",
    "data"
   ]
  },
  {
   "cell_type": "code",
   "execution_count": 23,
   "metadata": {},
   "outputs": [
    {
     "name": "stdout",
     "output_type": "stream",
     "text": [
      "0     Sound Design\n",
      "1        Animation\n",
      "          ...     \n",
      "91     Programming\n",
      "92     Programming\n",
      "Name: Department, Length: 93, dtype: object\n",
      "['Sound Design' 'Animation' 'Art' 'Programming' 'Game Design'\n",
      " 'Quality Assurance' 'Production']\n",
      "7\n"
     ]
    }
   ],
   "source": [
    "# Select unique value\n",
    "print(data.Department)\n",
    "print(data.Department.unique())\n",
    "print(len(data.Department.unique()))\n"
   ]
  },
  {
   "cell_type": "markdown",
   "metadata": {},
   "source": [
    "# Selection"
   ]
  },
  {
   "cell_type": "code",
   "execution_count": 24,
   "metadata": {},
   "outputs": [
    {
     "data": {
      "text/plain": [
       "0     10000\n",
       "1     10387\n",
       "      ...  \n",
       "91    27244\n",
       "92    27474\n",
       "Name: ID, Length: 93, dtype: int64"
      ]
     },
     "execution_count": 24,
     "metadata": {},
     "output_type": "execute_result"
    }
   ],
   "source": [
    "# what is output\n",
    "data['ID']"
   ]
  },
  {
   "cell_type": "code",
   "execution_count": 25,
   "metadata": {},
   "outputs": [
    {
     "data": {
      "text/html": [
       "<div>\n",
       "<style scoped>\n",
       "    .dataframe tbody tr th:only-of-type {\n",
       "        vertical-align: middle;\n",
       "    }\n",
       "\n",
       "    .dataframe tbody tr th {\n",
       "        vertical-align: top;\n",
       "    }\n",
       "\n",
       "    .dataframe thead th {\n",
       "        text-align: right;\n",
       "    }\n",
       "</style>\n",
       "<table border=\"1\" class=\"dataframe\">\n",
       "  <thead>\n",
       "    <tr style=\"text-align: right;\">\n",
       "      <th></th>\n",
       "      <th>Last Name</th>\n",
       "      <th>First Name</th>\n",
       "      <th>Title</th>\n",
       "    </tr>\n",
       "  </thead>\n",
       "  <tbody>\n",
       "    <tr>\n",
       "      <th>0</th>\n",
       "      <td>Aikman</td>\n",
       "      <td>Gary</td>\n",
       "      <td>Senior Sound Designer</td>\n",
       "    </tr>\n",
       "    <tr>\n",
       "      <th>1</th>\n",
       "      <td>Felser</td>\n",
       "      <td>Cynthia</td>\n",
       "      <td>Lead Animator</td>\n",
       "    </tr>\n",
       "    <tr>\n",
       "      <th>...</th>\n",
       "      <td>...</td>\n",
       "      <td>...</td>\n",
       "      <td>...</td>\n",
       "    </tr>\n",
       "    <tr>\n",
       "      <th>91</th>\n",
       "      <td>De Maria</td>\n",
       "      <td>Cristi</td>\n",
       "      <td>Programmer</td>\n",
       "    </tr>\n",
       "    <tr>\n",
       "      <th>92</th>\n",
       "      <td>Elway</td>\n",
       "      <td>William</td>\n",
       "      <td>Programmer</td>\n",
       "    </tr>\n",
       "  </tbody>\n",
       "</table>\n",
       "<p>93 rows × 3 columns</p>\n",
       "</div>"
      ],
      "text/plain": [
       "   Last Name First Name                  Title\n",
       "0     Aikman       Gary  Senior Sound Designer\n",
       "1     Felser    Cynthia          Lead Animator\n",
       "..       ...        ...                    ...\n",
       "91  De Maria     Cristi             Programmer\n",
       "92     Elway    William             Programmer\n",
       "\n",
       "[93 rows x 3 columns]"
      ]
     },
     "execution_count": 25,
     "metadata": {},
     "output_type": "execute_result"
    }
   ],
   "source": [
    "# display mutiple columns\n",
    "# Show first name, last name and title, , use [[]]!!!\n",
    "data[['Last Name', 'First Name', 'Title']]"
   ]
  },
  {
   "cell_type": "code",
   "execution_count": 28,
   "metadata": {},
   "outputs": [
    {
     "name": "stdout",
     "output_type": "stream",
     "text": [
      "ID               10000\n",
      "Last Name       Aikman\n",
      "                ...   \n",
      "Salary           67000\n",
      "Performance    Average\n",
      "Name: 0, Length: 8, dtype: object\n",
      "------\n",
      "Aikman\n",
      "------\n",
      "Aikman\n",
      "------\n"
     ]
    }
   ],
   "source": [
    "# Use .loc[]\n",
    "\n",
    "# select first record\n",
    "res = data.loc[0]\n",
    "print(res)\n",
    "print('------')\n",
    "\n",
    "# select single column, first record\n",
    "res = data.loc[0,'Last Name']\n",
    "print(res)\n",
    "print('------')\n",
    "\n",
    "res = data['Last Name'].loc[0]\n",
    "print(res)\n",
    "print('------')\n"
   ]
  },
  {
   "cell_type": "code",
   "execution_count": 31,
   "metadata": {},
   "outputs": [
    {
     "name": "stdout",
     "output_type": "stream",
     "text": [
      "------\n",
      "       ID Last Name First Name\n",
      "0   10000    Aikman       Gary\n",
      "1   10387    Felser    Cynthia\n",
      "..    ...       ...        ...\n",
      "91  27244  De Maria     Cristi\n",
      "92  27474     Elway    William\n",
      "\n",
      "[93 rows x 3 columns]\n",
      "ID             10000\n",
      "Last Name     Aikman\n",
      "First Name      Gary\n",
      "Name: 0, dtype: object\n",
      "------\n",
      "ID             10000\n",
      "Last Name     Aikman\n",
      "First Name      Gary\n",
      "Name: 0, dtype: object\n",
      "------\n",
      "      ID Last Name First Name\n",
      "0  10000    Aikman       Gary\n",
      "1  10387    Felser    Cynthia\n",
      "2  10552    Leslie       Jean\n",
      "3  10936     Cusak    Barbara\n",
      "4  11048     Noble      Linda\n"
     ]
    }
   ],
   "source": [
    "print('------')\n",
    "res = data[['ID','Last Name','First Name']]\n",
    "print(res)\n",
    "\n",
    "res = data.loc[0,['ID','Last Name','First Name']]\n",
    "print(res)\n",
    "\n",
    "\n",
    "print('------')\n",
    "res = data[['ID','Last Name','First Name']].iloc[0]\n",
    "print(res)\n",
    "\n",
    "print('------')\n",
    "res = data[['ID','Last Name','First Name']].iloc[:5]\n",
    "print(res)"
   ]
  },
  {
   "cell_type": "code",
   "execution_count": null,
   "metadata": {},
   "outputs": [],
   "source": [
    "# Add a new member to the dataframe\n",
    "# Check https://stackoverflow.com/questions/49916371/how-to-append-new-row-to-dataframe-in-pandas\n",
    "# list\n",
    "new =['99999','Smith','Joe','M','Animation','Senior Programmer',75000,'Good','Chicago']\n",
    "data.loc[len(data)] = new\n",
    "\n",
    "\n",
    "data.tail()"
   ]
  },
  {
   "cell_type": "code",
   "execution_count": 34,
   "metadata": {},
   "outputs": [
    {
     "data": {
      "text/html": [
       "<div>\n",
       "<style scoped>\n",
       "    .dataframe tbody tr th:only-of-type {\n",
       "        vertical-align: middle;\n",
       "    }\n",
       "\n",
       "    .dataframe tbody tr th {\n",
       "        vertical-align: top;\n",
       "    }\n",
       "\n",
       "    .dataframe thead th {\n",
       "        text-align: right;\n",
       "    }\n",
       "</style>\n",
       "<table border=\"1\" class=\"dataframe\">\n",
       "  <thead>\n",
       "    <tr style=\"text-align: right;\">\n",
       "      <th></th>\n",
       "      <th>ID</th>\n",
       "      <th>Last Name</th>\n",
       "      <th>First Name</th>\n",
       "      <th>Gender</th>\n",
       "      <th>Department</th>\n",
       "      <th>Title</th>\n",
       "      <th>Salary</th>\n",
       "      <th>Performance</th>\n",
       "    </tr>\n",
       "  </thead>\n",
       "  <tbody>\n",
       "    <tr>\n",
       "      <th>0</th>\n",
       "      <td>10000</td>\n",
       "      <td>Aikman</td>\n",
       "      <td>Gary</td>\n",
       "      <td>F</td>\n",
       "      <td>Sound Design</td>\n",
       "      <td>Senior Sound Designer</td>\n",
       "      <td>67000</td>\n",
       "      <td>Average</td>\n",
       "    </tr>\n",
       "    <tr>\n",
       "      <th>1</th>\n",
       "      <td>10387</td>\n",
       "      <td>Felser</td>\n",
       "      <td>Cynthia</td>\n",
       "      <td>F</td>\n",
       "      <td>Animation</td>\n",
       "      <td>Lead Animator</td>\n",
       "      <td>80000</td>\n",
       "      <td>Good</td>\n",
       "    </tr>\n",
       "    <tr>\n",
       "      <th>...</th>\n",
       "      <td>...</td>\n",
       "      <td>...</td>\n",
       "      <td>...</td>\n",
       "      <td>...</td>\n",
       "      <td>...</td>\n",
       "      <td>...</td>\n",
       "      <td>...</td>\n",
       "      <td>...</td>\n",
       "    </tr>\n",
       "    <tr>\n",
       "      <th>91</th>\n",
       "      <td>27244</td>\n",
       "      <td>De Maria</td>\n",
       "      <td>Cristi</td>\n",
       "      <td>F</td>\n",
       "      <td>Programming</td>\n",
       "      <td>Programmer</td>\n",
       "      <td>90000</td>\n",
       "      <td>Excellent</td>\n",
       "    </tr>\n",
       "    <tr>\n",
       "      <th>92</th>\n",
       "      <td>27474</td>\n",
       "      <td>Elway</td>\n",
       "      <td>William</td>\n",
       "      <td>M</td>\n",
       "      <td>Programming</td>\n",
       "      <td>Programmer</td>\n",
       "      <td>75000</td>\n",
       "      <td>Good</td>\n",
       "    </tr>\n",
       "  </tbody>\n",
       "</table>\n",
       "<p>93 rows × 8 columns</p>\n",
       "</div>"
      ],
      "text/plain": [
       "       ID Last Name First Name Gender    Department                  Title  \\\n",
       "0   10000    Aikman       Gary      F  Sound Design  Senior Sound Designer   \n",
       "1   10387    Felser    Cynthia      F     Animation          Lead Animator   \n",
       "..    ...       ...        ...    ...           ...                    ...   \n",
       "91  27244  De Maria     Cristi      F   Programming             Programmer   \n",
       "92  27474     Elway    William      M   Programming             Programmer   \n",
       "\n",
       "    Salary Performance  \n",
       "0    67000     Average  \n",
       "1    80000        Good  \n",
       "..     ...         ...  \n",
       "91   90000   Excellent  \n",
       "92   75000        Good  \n",
       "\n",
       "[93 rows x 8 columns]"
      ]
     },
     "execution_count": 34,
     "metadata": {},
     "output_type": "execute_result"
    }
   ],
   "source": [
    "data"
   ]
  },
  {
   "cell_type": "code",
   "execution_count": 36,
   "metadata": {},
   "outputs": [
    {
     "data": {
      "text/plain": [
       "0       Aikman\n",
       "1       Felser\n",
       "        ...   \n",
       "91    De Maria\n",
       "92       Elway\n",
       "Name: Last Name, Length: 93, dtype: object"
      ]
     },
     "execution_count": 36,
     "metadata": {},
     "output_type": "execute_result"
    }
   ],
   "source": [
    "# only show one column\n",
    "\n",
    "names = data['Last Name']  # this is a series\n",
    "names"
   ]
  },
  {
   "cell_type": "code",
   "execution_count": 37,
   "metadata": {},
   "outputs": [
    {
     "data": {
      "text/plain": [
       "RangeIndex(start=0, stop=93, step=1)"
      ]
     },
     "execution_count": 37,
     "metadata": {},
     "output_type": "execute_result"
    }
   ],
   "source": [
    "data['Last Name'].index"
   ]
  },
  {
   "cell_type": "code",
   "execution_count": 38,
   "metadata": {},
   "outputs": [
    {
     "data": {
      "text/plain": [
       "array(['Aikman', 'Felser', 'Leslie', 'Cusak', 'Noble', 'Bobbitt',\n",
       "       'Lobree', 'Sampieri', 'Powell', 'Cole', 'Foerster', 'Guilford',\n",
       "       'Drubin', 'Spinale', 'Watson', 'Pennekamp', 'Fegin', 'Erpf',\n",
       "       'White', 'Jones', 'Jackson', 'Hood', 'Moss', 'Wilson', 'Ross',\n",
       "       'Martin', 'Scott', 'Park', 'Gonzalez', 'Wynperle', 'Wood', 'Hasty',\n",
       "       'North', 'Parker', 'Brawner', 'Fleming', 'Sade', 'Stieglitz',\n",
       "       'Munroe', 'Mills', 'Voell', 'Titley', 'Brett', 'Shuffield',\n",
       "       'Brickey', 'Mosely', 'Dill', 'Reed', 'Evans', 'Brooks', 'Strump',\n",
       "       'Payne', 'Lazarus', 'Jenks', 'Rapee', 'Gander', 'Restery', 'Park',\n",
       "       'Halloway', 'Moran', 'Shindell', 'Sapp', 'Rudy', 'Anderson',\n",
       "       'Afflord', 'Quinton', 'Justice', 'Jamison', 'Johnson', 'Simon',\n",
       "       'Munter', 'Williamson', 'Smith', 'Moynahan', 'Bogani', 'Holly',\n",
       "       'Goldstein', 'Figure', 'Adams', 'Carlo', 'Hoffman', 'Scola',\n",
       "       'Mason', 'Fischler', 'Munroe', 'Houston', 'Pawley', 'Rodriguez',\n",
       "       'Whiting', 'Denver', 'Bermont', 'De Maria', 'Elway'], dtype=object)"
      ]
     },
     "execution_count": 38,
     "metadata": {},
     "output_type": "execute_result"
    }
   ],
   "source": [
    "data['Last Name'].values"
   ]
  },
  {
   "cell_type": "code",
   "execution_count": 41,
   "metadata": {},
   "outputs": [
    {
     "name": "stdout",
     "output_type": "stream",
     "text": [
      "0     10000\n",
      "1     10387\n",
      "      ...  \n",
      "91    27244\n",
      "92    27474\n",
      "Name: ID, Length: 93, dtype: int64\n",
      "------\n",
      "93\n",
      "------\n"
     ]
    },
    {
     "data": {
      "text/plain": [
       "93"
      ]
     },
     "execution_count": 41,
     "metadata": {},
     "output_type": "execute_result"
    }
   ],
   "source": [
    "print(data.ID)\n",
    "print('------')\n",
    "# Total employees, use count\n",
    "print(data['ID'].count())\n",
    "print('------')\n",
    "# also can use len\n",
    "len(data['ID'])"
   ]
  },
  {
   "cell_type": "markdown",
   "metadata": {},
   "source": [
    "# Filtering"
   ]
  },
  {
   "cell_type": "code",
   "execution_count": null,
   "metadata": {},
   "outputs": [],
   "source": [
    "data[data['Gender']=='F']"
   ]
  },
  {
   "cell_type": "code",
   "execution_count": null,
   "metadata": {},
   "outputs": [],
   "source": [
    "# Use filter, \n",
    "males = data[data['Gender']=='M']\n",
    "print(males.shape)\n",
    "print(data.shape)"
   ]
  },
  {
   "cell_type": "code",
   "execution_count": null,
   "metadata": {},
   "outputs": [],
   "source": [
    "# 'Title' vs. data.Title\n",
    "res = data[data.Title=='Programmer']\n",
    "print(len(res))\n",
    "\n",
    "# vs.\n",
    "res = data[data['Title']=='Programmer']\n",
    "print(len(res))\n",
    "\n",
    "print(res['Title'])"
   ]
  },
  {
   "cell_type": "code",
   "execution_count": null,
   "metadata": {},
   "outputs": [],
   "source": [
    "# List all Female Senior Game Designer\n",
    "data[(data['Title'] =='Senior Programmer') & (data['Gender'] =='F')]"
   ]
  },
  {
   "cell_type": "code",
   "execution_count": null,
   "metadata": {},
   "outputs": [],
   "source": [
    "# List all Female Senior Game Designer\n",
    "data[(data['Title'] =='Senior Programmer') | (data['Gender'] =='F')]"
   ]
  },
  {
   "cell_type": "code",
   "execution_count": null,
   "metadata": {},
   "outputs": [],
   "source": [
    "# List senior position or performance is Excellent\n",
    "# Use contains\n",
    "df = data\n",
    "\n",
    "df = df[ (df.Title.str.contains('Senior')) | (df.Performance=='Exellent')]\n",
    "df"
   ]
  },
  {
   "cell_type": "code",
   "execution_count": null,
   "metadata": {},
   "outputs": [],
   "source": [
    "# Or\n",
    "df = data\n",
    "df= df[ (df.Title=='Senior Programmer') & (df.Gender=='F')]\n",
    "# How many people satisfied the condition\n",
    "df.ID.count()"
   ]
  },
  {
   "cell_type": "code",
   "execution_count": null,
   "metadata": {},
   "outputs": [],
   "source": [
    "df.iloc[0]"
   ]
  },
  {
   "cell_type": "markdown",
   "metadata": {},
   "source": [
    "#Use .loc to assign column values"
   ]
  },
  {
   "cell_type": "code",
   "execution_count": null,
   "metadata": {},
   "outputs": [],
   "source": [
    "len(data[data.Performance=='Excellent'])"
   ]
  },
  {
   "cell_type": "markdown",
   "metadata": {},
   "source": [
    "# Sorting\n",
    "\n",
    "df.sort_values(by=['a','b'])"
   ]
  },
  {
   "cell_type": "code",
   "execution_count": null,
   "metadata": {},
   "outputs": [],
   "source": [
    "#df.sort_values?\n",
    "df.sort_values(by = 'Salary',ascending=False).head()\n"
   ]
  },
  {
   "cell_type": "code",
   "execution_count": null,
   "metadata": {},
   "outputs": [],
   "source": [
    "\n",
    "data.sort_values(by=['Gender','Salary'],ascending = False)"
   ]
  },
  {
   "cell_type": "code",
   "execution_count": null,
   "metadata": {},
   "outputs": [],
   "source": [
    "#df.sort_values?"
   ]
  },
  {
   "cell_type": "code",
   "execution_count": null,
   "metadata": {},
   "outputs": [],
   "source": [
    "df.sort_values(by='Last Name',ascending = False)"
   ]
  },
  {
   "cell_type": "code",
   "execution_count": null,
   "metadata": {},
   "outputs": [],
   "source": [
    "# List top three who has the Highest Salary\n",
    "res = df.sort_values(by='Salary',ascending = False).head(3)\n",
    "res"
   ]
  },
  {
   "cell_type": "code",
   "execution_count": null,
   "metadata": {},
   "outputs": [],
   "source": [
    "res = df.sort_values(by=['Title','Salary'],ascending = False).head(20)\n",
    "res"
   ]
  },
  {
   "cell_type": "code",
   "execution_count": null,
   "metadata": {},
   "outputs": [],
   "source": [
    "# List three famaleiprogrammer who have the lowest sarlary\n",
    "\n",
    "res1 = df[(df.Gender=='F') & (df.Title=='Programmer')].sort_values(by ='Salary').tail(3)\n",
    "\n",
    "res2 = df[(df.Gender=='M') & (df.Title=='Programmer')].sort_values(by ='Salary').tail(3)\n",
    "\n",
    "print(res1)\n",
    "print(res2)"
   ]
  }
 ],
 "metadata": {
  "kernelspec": {
   "display_name": "Python 3",
   "language": "python",
   "name": "python3"
  },
  "language_info": {
   "codemirror_mode": {
    "name": "ipython",
    "version": 3
   },
   "file_extension": ".py",
   "mimetype": "text/x-python",
   "name": "python",
   "nbconvert_exporter": "python",
   "pygments_lexer": "ipython3",
   "version": "3.7.6"
  }
 },
 "nbformat": 4,
 "nbformat_minor": 2
}
